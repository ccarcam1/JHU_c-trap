{
 "cells": [
  {
   "cell_type": "code",
   "execution_count": 3,
   "metadata": {},
   "outputs": [],
   "source": [
    "import numpy as np\n",
    "import matplotlib.pyplot as plt\n",
    "from lumicks import pylake\n",
    "import re\n",
    "\n",
    "import glob\n",
    "%matplotlib inline"
   ]
  },
  {
   "cell_type": "code",
   "execution_count": 5,
   "metadata": {},
   "outputs": [
    {
     "name": "stdout",
     "output_type": "stream",
     "text": [
      "[]\n"
     ]
    }
   ],
   "source": [
    "dire='/mnt/e/Olivia files/LAB/PROJECTS/C-trap things/190815 sytox orange dsDNA to ssDNA/'\n",
    "files = glob.glob(dire+'*Kymograph*.h5')\n",
    "print(files)"
   ]
  },
  {
   "cell_type": "code",
   "execution_count": null,
   "metadata": {},
   "outputs": [],
   "source": [
    "dire='/mnt/e/Olivia files/LAB/PROJECTS/C-trap things/190815 sytox orange dsDNA to ssDNA/'\n",
    "files = glob.glob(dire+'*Kymograph*.h5')\n",
    "print(\"molecule options:\",end =\" \")\n",
    "for f in files:\n",
    "    key=re.findall(r\"[\\d]*(?=\\.)\",f)[0]\n",
    "    print(key,end =\" \")\n",
    "k=input(\"which molecule to look at? \")\n",
    "for f in files:\n",
    "    if re.search(r'\\s' + k,f):\n",
    "        filename=f\n",
    "        print('opening '+filename)\n",
    "\n",
    "# open file\n",
    "file = pylake.File(filename)\n",
    "kymos = list(file.kymos)\n",
    "kymo_data = file.kymos[kymos[0]]\n",
    "kymo = file.kymos[kymos[0]]"
   ]
  },
  {
   "cell_type": "code",
   "execution_count": null,
   "metadata": {},
   "outputs": [],
   "source": []
  }
 ],
 "metadata": {
  "kernelspec": {
   "display_name": "Python 3",
   "language": "python",
   "name": "python3"
  },
  "language_info": {
   "codemirror_mode": {
    "name": "ipython",
    "version": 3
   },
   "file_extension": ".py",
   "mimetype": "text/x-python",
   "name": "python",
   "nbconvert_exporter": "python",
   "pygments_lexer": "ipython3",
   "version": "3.7.3"
  }
 },
 "nbformat": 4,
 "nbformat_minor": 2
}
